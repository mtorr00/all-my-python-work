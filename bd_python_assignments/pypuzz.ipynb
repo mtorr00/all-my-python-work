{
 "cells": [
  {
   "cell_type": "code",
   "execution_count": 7,
   "metadata": {},
   "outputs": [
    {
     "name": "stdout",
     "output_type": "stream",
     "text": [
      "[19, 5, 5, 5]\n",
      "False\n"
     ]
    }
   ],
   "source": [
    "try:\n",
    "    items = [int(item) for item in input(\"Enter the list items : \").split()]\n",
    "    print(items)\n",
    "    if items.count(19) == 2 and items.count(5) >= 3:\n",
    "        print(\"True\")\n",
    "    else:\n",
    "        print(\"False\")\n",
    "except:\n",
    "    print(\"Unexpected input.\")"
   ]
  },
  {
   "cell_type": "code",
   "execution_count": 12,
   "metadata": {},
   "outputs": [
    {
     "name": "stdout",
     "output_type": "stream",
     "text": [
      "[5, 5, 5, 5, 5, 5]\n",
      "False\n"
     ]
    }
   ],
   "source": [
    "try:\n",
    "    items = [int(item) for item in input(\"Enter the list items : \").split()]\n",
    "    print(items)\n",
    "    if len(items) == 8 and items.count(items[4]) == 3:\n",
    "        print(\"True\")\n",
    "    else:\n",
    "        print(\"False\")\n",
    "except:\n",
    "    print(\"Unexpected input.\")"
   ]
  },
  {
   "cell_type": "code",
   "execution_count": 15,
   "metadata": {},
   "outputs": [
    {
     "name": "stdout",
     "output_type": "stream",
     "text": [
      "854\n",
      "True\n"
     ]
    }
   ],
   "source": [
    "try:\n",
    "    inp = int(input(\"Enter the number : \"))\n",
    "    print(inp)\n",
    "    if inp % 34 == 4 and inp > 4**4:\n",
    "        print(\"True\")\n",
    "    else:\n",
    "        print(\"False\")\n",
    "except:\n",
    "    print(\"Unexpected input.\")"
   ]
  },
  {
   "cell_type": "code",
   "execution_count": 17,
   "metadata": {},
   "outputs": [
    {
     "name": "stdout",
     "output_type": "stream",
     "text": [
      "17\n",
      "[17, 19, 21, 23, 25, 27, 29, 31, 33, 35, 37, 39, 41, 43, 45, 47, 49]\n"
     ]
    }
   ],
   "source": [
    "try:\n",
    "    inp = int(input(\"Enter the number : \"))\n",
    "    print(inp)\n",
    "    piles = []\n",
    "    piles.append(inp)\n",
    "    while len(piles) != inp:\n",
    "        piles.append(piles[-1] + 2)\n",
    "    print(piles)\n",
    "except:\n",
    "    print(\"Unexpected input.\")"
   ]
  },
  {
   "cell_type": "code",
   "execution_count": 20,
   "metadata": {},
   "outputs": [
    {
     "name": "stdout",
     "output_type": "stream",
     "text": [
      "['a', 'b', 'a', 'cc']\n",
      "False\n"
     ]
    }
   ],
   "source": [
    "try:\n",
    "    items = [str(item) for item in input(\"Enter the list items : \").split()]\n",
    "    print(items)\n",
    "    if items[len(items)-2] in items[len(items)-1] and items[len(items)-2] != items[len(items)-1]:\n",
    "        print(\"True\")\n",
    "    else:\n",
    "        print(\"False\")\n",
    "except:\n",
    "    print(\"Unexpected input.\")"
   ]
  },
  {
   "cell_type": "code",
   "execution_count": 21,
   "metadata": {},
   "outputs": [
    {
     "name": "stdout",
     "output_type": "stream",
     "text": [
      "[0, 10, 20, 30, 40, 50, 60, 70, 80, 90, 100, 110, 120, 130, 140, 150, 160, 170, 180, 190, 200, 210, 220, 230, 240, 250, 260, 270, 280, 290, 300, 310, 320, 330, 340, 350, 360, 370, 380, 390, 400, 410, 420, 430, 440, 450, 460, 470, 480, 490, 500, 510, 520, 530, 540, 550, 560, 570, 580, 590, 600, 610, 620, 630, 640, 650, 660, 670, 680, 690, 700, 710, 720, 730, 740, 750, 760, 770, 780, 790, 800, 810, 820, 830, 840, 850, 860, 870, 880, 890, 900, 910, 920, 930, 940, 950, 960, 970, 980]\n",
      "True\n",
      "[0, 20, 40, 60, 80, 100, 120, 140, 160, 180, 200, 220, 240, 260, 280, 300, 320, 340, 360, 380, 400, 420, 440, 460, 480, 500, 520, 540, 560, 580, 600, 620, 640, 660, 680, 700, 720, 740, 760, 780, 800, 820, 840, 860, 880, 900, 920, 940, 960, 980, 1000, 1020, 1040, 1060, 1080, 1100, 1120, 1140, 1160, 1180, 1200, 1220, 1240, 1260, 1280, 1300, 1320, 1340, 1360, 1380, 1400, 1420, 1440, 1460, 1480, 1500, 1520, 1540, 1560, 1580, 1600, 1620, 1640, 1660, 1680, 1700, 1720, 1740, 1760, 1780, 1800, 1820, 1840, 1860, 1880, 1900, 1920, 1940, 1960]\n",
      "False\n"
     ]
    }
   ],
   "source": [
    "one = [i * 10 for i in range(99)]\n",
    "print(one)\n",
    "if one == one:\n",
    "    print(\"True\")\n",
    "else:\n",
    "    print(\"False\")\n",
    "two = [i * 20 for i in range(99)]\n",
    "print(two)\n",
    "if two == one:\n",
    "    print(\"True\")\n",
    "else:\n",
    "    print(\"False\")"
   ]
  },
  {
   "cell_type": "code",
   "execution_count": 24,
   "metadata": {},
   "outputs": [
    {
     "name": "stdout",
     "output_type": "stream",
     "text": [
      "[0, 0, 0, 0, 0, 0, 7]\n",
      "True\n"
     ]
    }
   ],
   "source": [
    "try:\n",
    "    items = [int(item) for item in input(\"Enter the list items : \").split()]\n",
    "    print(items)\n",
    "    targetsum = len(items)\n",
    "    itemsum = 0\n",
    "    for i in items:\n",
    "        itemsum = itemsum + i\n",
    "    if itemsum == targetsum:\n",
    "        print(\"True\")\n",
    "    else:\n",
    "        print(\"False\")\n",
    "except:\n",
    "    print(\"Unexpected input.\")"
   ]
  },
  {
   "cell_type": "code",
   "execution_count": 26,
   "metadata": {},
   "outputs": [
    {
     "name": "stdout",
     "output_type": "stream",
     "text": [
      "i am a dog, woof woof. i swear\n",
      "[['i', 'am', 'a', 'dog', 'woof', 'woof.', 'i', 'swear'], [' ', ' ', ' ', ', ', ' ', ' ', ' ']]\n"
     ]
    }
   ],
   "source": [
    "import re\n",
    "\n",
    "items = input(\"Enter string input \")\n",
    "print(items)\n",
    "splitreg = re.split(r\"([ ,]+)\", items)\n",
    "answer = [splitreg[::2], splitreg[1::2]]\n",
    "\n",
    "print(answer)\n",
    "\n"
   ]
  },
  {
   "cell_type": "code",
   "execution_count": 28,
   "metadata": {},
   "outputs": [
    {
     "name": "stdout",
     "output_type": "stream",
     "text": [
      "[1, 2, 3, 4, 5, 6, 5, 4, 3, 2, 1, 2, 1, 3, 4, 1, 1]\n",
      "False\n"
     ]
    }
   ],
   "source": [
    "try:\n",
    "    items = [int(item) for item in input(\"Enter the list items : \").split()]\n",
    "    print(items)\n",
    "    range_end = len(items) if len(items) < 20 else 20\n",
    "    print(all([items[i]!=items[i+1] for i in range(len(items)-1)]) and len(set(items))==4)\n",
    "except:\n",
    "    print(\"Unexpected input.\")"
   ]
  },
  {
   "cell_type": "code",
   "execution_count": 55,
   "metadata": {},
   "outputs": [
    {
     "name": "stdout",
     "output_type": "stream",
     "text": [
      "(()()()())(())((()))()()  (()((((())  ()((()))))(()))))\n",
      "['(()()()())', '(())', '((()))', '()', '()', '(()((((())()((()))))(())))']\n"
     ]
    }
   ],
   "source": [
    "inp = \"(()()()())(())((()))()()  (()((((())  ()((()))))(()))))\"\n",
    "print(inp)\n",
    "answer = []\n",
    "closedP = \"\"\n",
    "for s in inp.replace(' ',''):\n",
    "    closedP+=s\n",
    "    if closedP.count(\"(\")==closedP.count(\")\"):\n",
    "        answer.append(closedP)\n",
    "        closedP = \"\"\n",
    "print(answer)"
   ]
  },
  {
   "cell_type": "code",
   "execution_count": 61,
   "metadata": {},
   "outputs": [
    {
     "name": "stdout",
     "output_type": "stream",
     "text": [
      "[101, 102, 103, 201, 202, 203, 101, 102, 103, 1, 2, 3]\n",
      "Threshold:  102\n",
      "[0, 1, 6, 7, 9, 10, 11]\n"
     ]
    }
   ],
   "source": [
    "try:\n",
    "    items = [int(item) for item in input(\"Enter the list items : \").split()]\n",
    "    print(items)\n",
    "    threshold = int(input(\"Enter the threshold : \"))\n",
    "    print(\"Threshold: \", threshold)\n",
    "    indexes = list(i for i in range(len(items)) if items[i] <= threshold)\n",
    "    print(indexes)\n",
    "except:\n",
    "    print(\"Unexpected input.\")"
   ]
  },
  {
   "cell_type": "code",
   "execution_count": 62,
   "metadata": {},
   "outputs": [
    {
     "name": "stdout",
     "output_type": "stream",
     "text": [
      "['ace', 'racecar', 'tacocat', 'tree', 'blimp']\n",
      "[False, True, True, False, False]\n"
     ]
    }
   ],
   "source": [
    "try:\n",
    "    items = [str(item) for item in input(\"Enter the list items : \").split()]\n",
    "    print(items)\n",
    "    palibool = []\n",
    "    for i in items:\n",
    "        s1 = i\n",
    "        s2 = s1[::-1]\n",
    "        if s1 == s2:\n",
    "            palibool.append(True)\n",
    "        else:\n",
    "            palibool.append(False)\n",
    "    print(palibool)\n",
    "except:\n",
    "    print(\"Unexpected input.\")"
   ]
  },
  {
   "cell_type": "code",
   "execution_count": 64,
   "metadata": {},
   "outputs": [
    {
     "name": "stdout",
     "output_type": "stream",
     "text": [
      "['car', 'cat', 'god', 'dog', 'con', 'act', 'can']\n",
      "Prefix :  ca\n",
      "['car', 'cat', 'can']\n"
     ]
    }
   ],
   "source": [
    "try:\n",
    "    items = [str(item) for item in input(\"Enter the list items : \").split()]\n",
    "    print(items)\n",
    "    pref = str(input(\"Enter the prefix : \"))\n",
    "    print(\"Prefix : \", pref)\n",
    "    answer = list(str(i) for i in items if i.startswith(pref))\n",
    "    print(answer)        \n",
    "except:\n",
    "    print(\"Unexpected input.\")"
   ]
  },
  {
   "cell_type": "code",
   "execution_count": 65,
   "metadata": {},
   "outputs": [
    {
     "name": "stdout",
     "output_type": "stream",
     "text": [
      "['cat', 'dog', 'tree', 'forge', 'guitar', 'cantelope']\n",
      "[3, 3, 4, 5, 6, 9]\n"
     ]
    }
   ],
   "source": [
    "try:\n",
    "    items = [str(item) for item in input(\"Enter the list items : \").split()]\n",
    "    print(items)\n",
    "    answer = list(int(len(i)) for i in items)\n",
    "    print(answer)\n",
    "except:\n",
    "    print(\"Unexpected input.\")"
   ]
  },
  {
   "cell_type": "code",
   "execution_count": 66,
   "metadata": {},
   "outputs": [
    {
     "name": "stdout",
     "output_type": "stream",
     "text": [
      "['tree', 'firetruck', 'tirade', 'snapple', 'based', 'god', 'donkey', 'kong', 'tuberculosis', 'triumphant', 'onomatopoeia', 'chat']\n",
      "tuberculosis\n"
     ]
    }
   ],
   "source": [
    "try:\n",
    "    items = [str(item) for item in input(\"Enter the list items : \").split()]\n",
    "    print(items)\n",
    "    answer = items[0]\n",
    "    for i in items:\n",
    "        if len(i) > len(answer):\n",
    "            answer = i\n",
    "    print(answer)\n",
    "except:\n",
    "    print(\"Unexpected input.\")"
   ]
  },
  {
   "cell_type": "code",
   "execution_count": 68,
   "metadata": {},
   "outputs": [
    {
     "name": "stdout",
     "output_type": "stream",
     "text": [
      "['fourteen', 'train', 'grate', 'grain', 'brown', 'tree']\n",
      "Substring :  rt\n",
      "['fourteen']\n"
     ]
    }
   ],
   "source": [
    "try:\n",
    "    items = [str(item) for item in input(\"Enter the list items : \").split()]\n",
    "    print(items)\n",
    "    ss = str(input(\"Enter the substring : \"))\n",
    "    print(\"Substring : \", ss)\n",
    "    answer = list(str(i) for i in items if ss in i)\n",
    "    print(answer)        \n",
    "except:\n",
    "    print(\"Unexpected input.\")"
   ]
  },
  {
   "cell_type": "code",
   "execution_count": 70,
   "metadata": {},
   "outputs": [
    {
     "name": "stdout",
     "output_type": "stream",
     "text": [
      "15\n",
      "0 1 2 3 4 5 6 7 8 9 10 11 12 13 14 15 \n"
     ]
    }
   ],
   "source": [
    "try:\n",
    "    items = int(input(\"Enter the number: \"))\n",
    "    print(items)\n",
    "    answer = \"\".join(list(str(i)+ \" \" for i in range(0,items+1)))\n",
    "    print(answer)\n",
    "except:\n",
    "    print(\"Unexpected input.\")"
   ]
  },
  {
   "cell_type": "code",
   "execution_count": 74,
   "metadata": {},
   "outputs": [
    {
     "name": "stdout",
     "output_type": "stream",
     "text": [
      "[[1, 3, 2, 32, 19], [19], [2, 48, 19], [9, 35, 4], [3, 19]]\n",
      "Target value: 19\n",
      "[[0, 4], [1, 0], [2, 2], [4, 1]]\n"
     ]
    }
   ],
   "source": [
    "try:\n",
    "    items = [[1, 3, 2, 32, 19],[19],[2, 48, 19],[9, 35, 4,],[3, 19]]\n",
    "    print(items)\n",
    "    trig = int(input(\"Enter the number: \"))\n",
    "    print(\"Target value:\",trig)\n",
    "    answer = []\n",
    "    for i in range(len(items)):\n",
    "        temp = items[i]\n",
    "        for x in range(len(items[i])):\n",
    "            if temp[x] == trig:\n",
    "                answer.append([i,x])\n",
    "    print(answer)\n",
    "except:\n",
    "    print(\"Unexpected input.\")"
   ]
  },
  {
   "cell_type": "code",
   "execution_count": 82,
   "metadata": {},
   "outputs": [
    {
     "name": "stdout",
     "output_type": "stream",
     "text": [
      "abcd\n",
      "['b', 'd']\n"
     ]
    }
   ],
   "source": [
    "try:\n",
    "    items = str(input(\"Enter the list items : \"))\n",
    "    print(items)\n",
    "    if \" \" in items:\n",
    "        answer = list(items.split(\" \"))\n",
    "    elif \",\" in items:\n",
    "        answer = list(items.split(\",\"))\n",
    "    else:\n",
    "        answer = list(items[1:len(items):2])\n",
    "    print(answer)\n",
    "except:\n",
    "    print(\"Unexpected input.\")"
   ]
  },
  {
   "cell_type": "code",
   "execution_count": 101,
   "metadata": {},
   "outputs": [
    {
     "name": "stdout",
     "output_type": "stream",
     "text": [
      "[9, 7, 5, 3, 1]\n",
      "decreasing\n"
     ]
    }
   ],
   "source": [
    "try:\n",
    "    items = [int(item) for item in input(\"Enter the list items : \").split()]\n",
    "    print(items)\n",
    "    ranged = list(i for i in range(items[0],items[len(items)-1],items[1]-items[0]))\n",
    "    ranged.append(items[-1])\n",
    "    if items == ranged and items[0] < items[1]:\n",
    "        print(\"increasing\")\n",
    "    elif items == ranged and items[0] > items[1]:\n",
    "        print(\"decreasing\")\n",
    "    else:\n",
    "        print(\"not monotonic sequence\")\n",
    "except:\n",
    "    print(\"Unexpected input.\")"
   ]
  },
  {
   "cell_type": "code",
   "execution_count": 103,
   "metadata": {},
   "outputs": [
    {
     "name": "stdout",
     "output_type": "stream",
     "text": [
      "['cat', 'car', 'fear', 'center']\n",
      "[False, False, False, False]\n"
     ]
    }
   ],
   "source": [
    "try:\n",
    "    items = [str(item) for item in input(\"Enter the list items : \").split()]\n",
    "    print(items)\n",
    "    answer = [len(i.split(\" \")[-1]) == 1 for i in items]\n",
    "    print(answer)\n",
    "except:\n",
    "    print(\"Unexpected input.\")"
   ]
  },
  {
   "cell_type": "code",
   "execution_count": 105,
   "metadata": {},
   "outputs": [
    {
     "name": "stdout",
     "output_type": "stream",
     "text": [
      "PytHon ExerciSEs\n",
      "373\n"
     ]
    }
   ],
   "source": [
    "try:\n",
    "    items = str(input(\"Enter the list items : \"))\n",
    "    print(items)\n",
    "    answer = sum(map(ord,filter(str.isupper,items)))\n",
    "    print(answer)\n",
    "except:\n",
    "    print(\"Unexpected input.\")"
   ]
  },
  {
   "cell_type": "code",
   "execution_count": 106,
   "metadata": {},
   "outputs": [
    {
     "name": "stdout",
     "output_type": "stream",
     "text": [
      "[0, -1, 3, 8, 5, 9, 8, 14, 2, 4, 3, -10, 10, 17, 41, 22, -4, -4, -15, 0]\n",
      "[1, 4, 6, 8, 10, 11, 15, 16, 18]\n"
     ]
    }
   ],
   "source": [
    "try:\n",
    "    items = [int(item) for item in input(\"Enter the list items : \").split()]\n",
    "    print(items)\n",
    "    answer = []\n",
    "    for i in range(1,len(items)):\n",
    "        if items[i] < items[i-1]:\n",
    "            answer.append(i)\n",
    "    print(answer)\n",
    "except:\n",
    "    print(\"Unexpected input.\")"
   ]
  },
  {
   "cell_type": "code",
   "execution_count": 107,
   "metadata": {},
   "outputs": [
    {
     "name": "stdout",
     "output_type": "stream",
     "text": [
      "[1, 19, 5, 15, 5, 25, 5]\n",
      "[1, 19, 19, 19, 19, 25, 25]\n"
     ]
    }
   ],
   "source": [
    "try:\n",
    "    items = [int(item) for item in input(\"Enter the list items : \").split()]\n",
    "    print(items)\n",
    "    answer = [max(items[:i]) for i in range(1, len(items) + 1)]\n",
    "    print(answer)\n",
    "except:\n",
    "    print(\"Unexpected input.\")"
   ]
  },
  {
   "cell_type": "code",
   "execution_count": 117,
   "metadata": {},
   "outputs": [
    {
     "name": "stdout",
     "output_type": "stream",
     "text": [
      "['0001', '1101']\n",
      "0b1100\n",
      "Unexpected input.\n"
     ]
    }
   ],
   "source": [
    "try:\n",
    "    items = [str(item) for item in input(\"Enter the list items : \").split()]\n",
    "    print(items)\n",
    "    print(bin(int(items[0],2) ^ int(items[1],2)))\n",
    "except:\n",
    "    print(\"Unexpected input.\")"
   ]
  },
  {
   "cell_type": "code",
   "execution_count": 118,
   "metadata": {},
   "outputs": [
    {
     "name": "stdout",
     "output_type": "stream",
     "text": [
      "['101', '102,5', '102.3', '201,2']\n",
      "201.2\n"
     ]
    }
   ],
   "source": [
    "try:\n",
    "    items = [str(item) for item in input(\"Enter the list items : \").split()]\n",
    "    print(items)\n",
    "    maxval = float(items[0])\n",
    "    for i in items:\n",
    "        i = i.replace(\",\",\".\")\n",
    "        if float(i) > maxval:\n",
    "            maxval = float(i)\n",
    "    print(maxval)\n",
    "\n",
    "except:\n",
    "    print(\"Unexpected input.\")"
   ]
  },
  {
   "cell_type": "code",
   "execution_count": 119,
   "metadata": {},
   "outputs": [
    {
     "name": "stdout",
     "output_type": "stream",
     "text": [
      "[4, -5, 17, -9, 14, 108, -9]\n",
      "17.142857142857142\n"
     ]
    }
   ],
   "source": [
    "try:\n",
    "    items = [int(item) for item in input(\"Enter the list items : \").split()]\n",
    "    print(items)\n",
    "    print(sum(items)/len(items))\n",
    "except:\n",
    "    print(\"Unexpected input.\")"
   ]
  },
  {
   "cell_type": "code",
   "execution_count": 120,
   "metadata": {},
   "outputs": [
    {
     "name": "stdout",
     "output_type": "stream",
     "text": [
      "['cat', 'catatatatctsa', 'abcdefghijklmnop', '1234567898776543', 'foo', 'uniquwe']\n",
      "abcdefghijklmnop\n"
     ]
    }
   ],
   "source": [
    "try:\n",
    "    items = [str(item) for item in input(\"Enter the list items : \").split()]\n",
    "    print(items)\n",
    "    print(max(items,key=lambda i: len(set(i))))\n",
    "except:\n",
    "    print(\"Unexpected input.\")"
   ]
  },
  {
   "cell_type": "code",
   "execution_count": 121,
   "metadata": {},
   "outputs": [
    {
     "name": "stdout",
     "output_type": "stream",
     "text": [
      "[1, -4, 6, 7, -6, 4]\n",
      "[[1, 5], [2, 4], [4, 2], [5, 1]]\n"
     ]
    }
   ],
   "source": [
    "try:\n",
    "    items = [int(item) for item in input(\"Enter the list items : \").split()]\n",
    "    print(items)\n",
    "    answer = []\n",
    "    for i in items:\n",
    "        for x in items:\n",
    "            if i + x == 0:\n",
    "                answer.append([items.index(i),items.index(x)])\n",
    "    print(answer)\n",
    "except:\n",
    "    print(\"Unexpected input.\")"
   ]
  },
  {
   "cell_type": "code",
   "execution_count": 122,
   "metadata": {},
   "outputs": [
    {
     "name": "stdout",
     "output_type": "stream",
     "text": [
      "['this', 'list', 'is', 'narrow']\n"
     ]
    }
   ],
   "source": [
    "text = [['this', 'list', 'is', 'narrow'], ['I', 'am', 'shorter but wider']] \n",
    "print(min(text,key=lambda i:sum(len(x)for x in i)))\n",
    "        "
   ]
  }
 ],
 "metadata": {
  "kernelspec": {
   "display_name": "Python 3.9.13 64-bit (microsoft store)",
   "language": "python",
   "name": "python3"
  },
  "language_info": {
   "codemirror_mode": {
    "name": "ipython",
    "version": 3
   },
   "file_extension": ".py",
   "mimetype": "text/x-python",
   "name": "python",
   "nbconvert_exporter": "python",
   "pygments_lexer": "ipython3",
   "version": "3.9.13"
  },
  "orig_nbformat": 4,
  "vscode": {
   "interpreter": {
    "hash": "03b0a485e4005ef4a4f6a3f18ef87b0d97ed4f75e9ffd012b2cebaf2e9d31884"
   }
  }
 },
 "nbformat": 4,
 "nbformat_minor": 2
}
