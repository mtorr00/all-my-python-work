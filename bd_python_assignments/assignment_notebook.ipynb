{
 "cells": [
  {
   "cell_type": "code",
   "execution_count": 2,
   "metadata": {},
   "outputs": [
    {
     "name": "stdout",
     "output_type": "stream",
     "text": [
      "There are repeating numbers.\n"
     ]
    }
   ],
   "source": [
    "try:\n",
    "    items = [int(item) for item in input(\"Enter the list items : \").split()]\n",
    "    a = False\n",
    "    for num in items:\n",
    "        for num2 in items:\n",
    "            if num2 == num:\n",
    "                a = True\n",
    "    if a:\n",
    "        print(\"There are repeating numbers.\")\n",
    "    else:            \n",
    "        print(\"There are no repeating numbers.\")\n",
    "except:\n",
    "    print(\"Unexpected input, terminating.\")"
   ]
  },
  {
   "cell_type": "code",
   "execution_count": 12,
   "metadata": {},
   "outputs": [
    {
     "name": "stdout",
     "output_type": "stream",
     "text": [
      "['aeiou', 'aeiuo', 'aeoiu', 'aeoui', 'aeuio', 'aeuoi', 'aieou', 'aieuo', 'aioeu', 'aioue', 'aiueo', 'aiuoe', 'aoeiu', 'aoeui', 'aoieu', 'aoiue', 'aouei', 'aouie', 'aueio', 'aueoi', 'auieo', 'auioe', 'auoei', 'auoie', 'eaiou', 'eaiuo', 'eaoiu', 'eaoui', 'eauio', 'eauoi', 'eiaou', 'eiauo', 'eioau', 'eioua', 'eiuao', 'eiuoa', 'eoaiu', 'eoaui', 'eoiau', 'eoiua', 'eouai', 'eouia', 'euaio', 'euaoi', 'euiao', 'euioa', 'euoai', 'euoia', 'iaeou', 'iaeuo', 'iaoeu', 'iaoue', 'iaueo', 'iauoe', 'ieaou', 'ieauo', 'ieoau', 'ieoua', 'ieuao', 'ieuoa', 'ioaeu', 'ioaue', 'ioeau', 'ioeua', 'iouae', 'iouea', 'iuaeo', 'iuaoe', 'iueao', 'iueoa', 'iuoae', 'iuoea', 'oaeiu', 'oaeui', 'oaieu', 'oaiue', 'oauei', 'oauie', 'oeaiu', 'oeaui', 'oeiau', 'oeiua', 'oeuai', 'oeuia', 'oiaeu', 'oiaue', 'oieau', 'oieua', 'oiuae', 'oiuea', 'ouaei', 'ouaie', 'oueai', 'oueia', 'ouiae', 'ouiea', 'uaeio', 'uaeoi', 'uaieo', 'uaioe', 'uaoei', 'uaoie', 'ueaio', 'ueaoi', 'ueiao', 'ueioa', 'ueoai', 'ueoia', 'uiaeo', 'uiaoe', 'uieao', 'uieoa', 'uioae', 'uioea', 'uoaei', 'uoaie', 'uoeai', 'uoeia', 'uoiae', 'uoiea']\n"
     ]
    }
   ],
   "source": [
    "from itertools import permutations\n",
    "\n",
    "characters = \"aeiou\"\n",
    "answers = list(permutations(characters))\n",
    "words = []\n",
    "for a in answers:\n",
    "    words.append(\"\".join(a))\n",
    "print(words)"
   ]
  },
  {
   "cell_type": "code",
   "execution_count": null,
   "metadata": {},
   "outputs": [],
   "source": [
    "try:\n",
    "    items = [int(item) for item in input(\"Enter the list items : \").split()]\n",
    "    itemsThirds = \n",
    "except:\n",
    "    print(\"Unexpected input, terminating.\")"
   ]
  }
 ],
 "metadata": {
  "kernelspec": {
   "display_name": "Python 3.9.13 64-bit (microsoft store)",
   "language": "python",
   "name": "python3"
  },
  "language_info": {
   "codemirror_mode": {
    "name": "ipython",
    "version": 3
   },
   "file_extension": ".py",
   "mimetype": "text/x-python",
   "name": "python",
   "nbconvert_exporter": "python",
   "pygments_lexer": "ipython3",
   "version": "3.9.13"
  },
  "orig_nbformat": 4,
  "vscode": {
   "interpreter": {
    "hash": "03b0a485e4005ef4a4f6a3f18ef87b0d97ed4f75e9ffd012b2cebaf2e9d31884"
   }
  }
 },
 "nbformat": 4,
 "nbformat_minor": 2
}
