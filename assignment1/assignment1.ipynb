{
 "cells": [
  {
   "cell_type": "code",
   "execution_count": 18,
   "metadata": {},
   "outputs": [
    {
     "name": "stdout",
     "output_type": "stream",
     "text": [
      "Welcome to the calculator: \n",
      "6\n"
     ]
    }
   ],
   "source": [
    "#Simple Calculator\n",
    "print(\"Welcome to the calculator: \")\n",
    "firstNum = int(input(\"Enter the first number: \"))\n",
    "operation = input(\"Enter the operation: \")\n",
    "secondNum = int(input(\"Enter the second number: \"))\n",
    "if secondNum == 0 and operation == \"/\":\n",
    "    print(\"Cannot divide by Zero\")\n",
    "elif operation == \"*\":\n",
    "    print(firstNum*secondNum)\n",
    "elif operation == \"/\":\n",
    "    print(firstNum/secondNum)\n",
    "elif operation == \"+\":\n",
    "    print(firstNum+secondNum)\n",
    "elif operation == \"-\":\n",
    "    print(firstNum-secondNum)\n",
    "else:\n",
    "    print(\"An error has occurred.\")\n"
   ]
  },
  {
   "cell_type": "code",
   "execution_count": 14,
   "metadata": {},
   "outputs": [
    {
     "name": "stdout",
     "output_type": "stream",
     "text": [
      "Max number in [6, 3, 2] is 6\n"
     ]
    }
   ],
   "source": [
    "#Largest Amongst 3 numbers\n",
    "x = 0\n",
    "try:\n",
    "    numbers = []\n",
    "    while True:\n",
    "        numbers.append(int(input(\"Enter a number: \")))\n",
    "        x = x + 1\n",
    "        if x >= 3:\n",
    "            break\n",
    "    big = numbers[0]\n",
    "    for val in numbers:\n",
    "        if int(val) > big:\n",
    "            big = val\n",
    "\n",
    "    print(\"Max number in\", numbers, \"is\", big)\n",
    "except:\n",
    "    print(\"Non integer detected, terminating.\")\n",
    "\n"
   ]
  },
  {
   "cell_type": "code",
   "execution_count": 29,
   "metadata": {},
   "outputs": [
    {
     "name": "stdout",
     "output_type": "stream",
     "text": [
      "2021 is not a leap year.\n"
     ]
    }
   ],
   "source": [
    "#Leap Year\n",
    "try:\n",
    "    cur_year = int(input(\"Enter the current year: \"))\n",
    "    last_two = cur_year % 100\n",
    "    if last_two % 4 == 0:\n",
    "        print(cur_year, \"is a leap year.\")\n",
    "    else:\n",
    "        print(cur_year, \"is not a leap year.\")\n",
    "except:\n",
    "    print(\"Year not entered correctly. Terminating.\")\n",
    "\n"
   ]
  },
  {
   "cell_type": "code",
   "execution_count": 33,
   "metadata": {},
   "outputs": [
    {
     "name": "stdout",
     "output_type": "stream",
     "text": [
      "[0, 1, 1, 2, 3, 5, 8, 13, 21, 34]\n"
     ]
    }
   ],
   "source": [
    "#Generate Fibonacci Sequence\n",
    "\n",
    "\n",
    "def fibonacci(n):\n",
    "    f = [0,1]\n",
    "    for i in range(2,n+1):\n",
    "        f.append(f[i-1]+f[i-2])\n",
    "    return f\n",
    "\n",
    "try:\n",
    "    n = int(input(\"Enter the nth value for the Fibonnaci Sequence\"))\n",
    "    n = n - 1\n",
    "    print(fibonacci(n))\n",
    "except:\n",
    "    print(\"Integer not entered correctly, terminating.\")"
   ]
  },
  {
   "cell_type": "code",
   "execution_count": 3,
   "metadata": {},
   "outputs": [
    {
     "name": "stdout",
     "output_type": "stream",
     "text": [
      "55441 is a prime number.\n"
     ]
    }
   ],
   "source": [
    "#Check Prime Number\n",
    "from math import sqrt\n",
    "def isPrime(n):\n",
    "    if(n<=1):\n",
    "        return False\n",
    "    for i in range(2,int(sqrt(n))+1):\n",
    "        if(n%i==0):\n",
    "            return False\n",
    "    return True\n",
    "\n",
    "try:\n",
    "    x = int(input(\"Enter a number: \"))\n",
    "    if isPrime(x):\n",
    "        print(x, \"is a prime number.\")\n",
    "    else:\n",
    "        print(x, \"is not a prime number.\")\n",
    "except:\n",
    "    print(\"Number not entered correctly, terminating.\")"
   ]
  },
  {
   "cell_type": "code",
   "execution_count": 5,
   "metadata": {},
   "outputs": [
    {
     "name": "stdout",
     "output_type": "stream",
     "text": [
      "4.6\n"
     ]
    }
   ],
   "source": [
    "#Absolute Value\n",
    "def absoluteVal(n):\n",
    "    if n < 0:\n",
    "        n = n * -1\n",
    "    return n\n",
    "\n",
    "try:\n",
    "    n = float(input(\"Enter a number: \"))\n",
    "    print(absoluteVal(n))\n",
    "except:\n",
    "    print(\"Number not entered correctly\")"
   ]
  },
  {
   "cell_type": "code",
   "execution_count": 7,
   "metadata": {},
   "outputs": [
    {
     "name": "stdout",
     "output_type": "stream",
     "text": [
      "['0001000', 'kyyk', 'tt', 'o', 'ppwp']\n",
      "The fitting answers are ['0001000', 'kyyk', 'tt', 'ppwp']\n"
     ]
    }
   ],
   "source": [
    "#String counter 2+ length AND FnL same\n",
    "items = [item for item in input(\"Enter the list items : \").split()]\n",
    "print(\"This is the entered list: \", items)\n",
    "answer = []\n",
    "for x in items:\n",
    "    if len(x) >= 2:\n",
    "        if x.endswith(x[0]):\n",
    "            answer.append(x)\n",
    "print(\"The fitting answers are\", answer)"
   ]
  },
  {
   "cell_type": "code",
   "execution_count": 8,
   "metadata": {},
   "outputs": [
    {
     "name": "stdout",
     "output_type": "stream",
     "text": [
      "This is the entered list:  ['four', 'four', 'four', 'three', '333', '2', '3', '333', '3']\n",
      "['2', 'four', 'three', '333', '3']\n"
     ]
    }
   ],
   "source": [
    "#Remove duplicates from list\n",
    "items = [item for item in input(\"Enter the list items : \").split()]\n",
    "print(\"This is the entered list: \", items)\n",
    "no_dups = [*set(items)]\n",
    "print(no_dups)"
   ]
  },
  {
   "cell_type": "code",
   "execution_count": 10,
   "metadata": {},
   "outputs": [
    {
     "name": "stdout",
     "output_type": "stream",
     "text": [
      "This is the entered list:  ['2']\n"
     ]
    }
   ],
   "source": [
    "#Check Empty List\n",
    "items = [item for item in input(\"Enter the list items : \").split()]\n",
    "print(\"This is the entered list: \", items)\n",
    "if not items:\n",
    "    print(\"List is empty\")\n",
    "else:\n",
    "    print(\"List not empty\")"
   ]
  },
  {
   "cell_type": "code",
   "execution_count": 11,
   "metadata": {},
   "outputs": [
    {
     "name": "stdout",
     "output_type": "stream",
     "text": [
      "This is the entered list:  ['1', '2', '3', '4', '5', '6', '7', 'a', 's', 'd', 'f', 'g', 'g', 'g', 'g', 'g', 'g', 'ggg']\n",
      "This is the new list ['1', '2', '3', '4', '5', '6', '7', 'a', 's', 'd', 'f', 'g', 'g', 'g', 'g', 'g', 'g', 'ggg']\n"
     ]
    }
   ],
   "source": [
    "#Copy a list\n",
    "items = [item for item in input(\"Enter the list items : \").split()]\n",
    "print(\"This is the entered list: \", items)\n",
    "new_list = items.copy()\n",
    "print(\"This is the new list\", new_list)"
   ]
  },
  {
   "cell_type": "code",
   "execution_count": 15,
   "metadata": {},
   "outputs": [
    {
     "name": "stdout",
     "output_type": "stream",
     "text": [
      "Maximum value in [5, 6, 8]  is:  8\n"
     ]
    }
   ],
   "source": [
    "#Max of Three Numbers\n",
    "try:\n",
    "    x = 0\n",
    "    numbers = []\n",
    "    while True:\n",
    "        numbers.append(int(input(\"Enter a number: \")))\n",
    "        x = x + 1\n",
    "        if x >= 3:\n",
    "            break\n",
    "    max_num = numbers[0]\n",
    "    for x in numbers:\n",
    "        if max_num < x:\n",
    "            max_num = x\n",
    "    print(\"Maximum value in\", numbers, \" is: \", max_num)\n",
    "except:\n",
    "    print(\"Unexpected input, terminating.\")"
   ]
  },
  {
   "cell_type": "code",
   "execution_count": 21,
   "metadata": {},
   "outputs": [
    {
     "name": "stdout",
     "output_type": "stream",
     "text": [
      "Sum of  [1, 2, 3, 4, 5, 4, 3, 23, 1] is 46\n"
     ]
    }
   ],
   "source": [
    "#sum all numbers in list\n",
    "try:\n",
    "    items = [int(item) for item in input(\"Enter the list items : \").split()]\n",
    "    answer = 0\n",
    "    for x in items:\n",
    "        answer = answer + x\n",
    "    print(\"Sum of \", items, \"is\", answer)\n",
    "except:\n",
    "    print(\"Unexpected input, terminating\")"
   ]
  },
  {
   "cell_type": "code",
   "execution_count": 23,
   "metadata": {},
   "outputs": [
    {
     "name": "stdout",
     "output_type": "stream",
     "text": [
      "Product of  [1, 2, 3, 4, 5, 6, 7, 8, 9, 10] is 3628800\n"
     ]
    }
   ],
   "source": [
    "#product of all nums in list\n",
    "try:\n",
    "    items = [int(item) for item in input(\"Enter the list items : \").split()]\n",
    "    answer = 1\n",
    "    for x in items:\n",
    "        answer = answer * x\n",
    "    print(\"Product of \", items, \"is\", answer)\n",
    "except:\n",
    "    print(\"Unexpected input, terminating\")"
   ]
  },
  {
   "cell_type": "code",
   "execution_count": 24,
   "metadata": {},
   "outputs": [
    {
     "name": "stdout",
     "output_type": "stream",
     "text": [
      "taco64\n",
      "46ocat\n"
     ]
    }
   ],
   "source": [
    "#Reverse a string in python\n",
    "s1 = input(\"Enter the string: \")\n",
    "print(s1)\n",
    "s2 = s1[::-1]\n",
    "print(s2)"
   ]
  }
 ],
 "metadata": {
  "kernelspec": {
   "display_name": "Python 3.10.7 64-bit",
   "language": "python",
   "name": "python3"
  },
  "language_info": {
   "codemirror_mode": {
    "name": "ipython",
    "version": 3
   },
   "file_extension": ".py",
   "mimetype": "text/x-python",
   "name": "python",
   "nbconvert_exporter": "python",
   "pygments_lexer": "ipython3",
   "version": "3.10.7"
  },
  "orig_nbformat": 4,
  "vscode": {
   "interpreter": {
    "hash": "a8c01c6995fe5f5940d4936c9197e0ac822e7f006069cd6f7a09d0d1d117bb77"
   }
  }
 },
 "nbformat": 4,
 "nbformat_minor": 2
}
