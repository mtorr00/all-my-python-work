{
 "cells": [
  {
   "cell_type": "code",
   "execution_count": null,
   "metadata": {},
   "outputs": [],
   "source": [
    "#password checker\n",
    "password = input(\"Enter the password: \")\n"
   ]
  }
 ],
 "metadata": {
  "kernelspec": {
   "display_name": "Python 3.9.13 64-bit (microsoft store)",
   "language": "python",
   "name": "python3"
  },
  "language_info": {
   "name": "python",
   "version": "3.9.13"
  },
  "orig_nbformat": 4,
  "vscode": {
   "interpreter": {
    "hash": "03b0a485e4005ef4a4f6a3f18ef87b0d97ed4f75e9ffd012b2cebaf2e9d31884"
   }
  }
 },
 "nbformat": 4,
 "nbformat_minor": 2
}
