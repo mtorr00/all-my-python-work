{
 "cells": [
  {
   "cell_type": "code",
   "execution_count": null,
   "metadata": {},
   "outputs": [],
   "source": [
    "#File Handling"
   ]
  },
  {
   "cell_type": "code",
   "execution_count": 2,
   "metadata": {},
   "outputs": [
    {
     "name": "stdout",
     "output_type": "stream",
     "text": [
      "Thirteen programmers\n",
      "Sitting at the fireside\n",
      "Discussing python\n",
      "\n",
      "A Haiku by Martin Torrey (2022)\n"
     ]
    }
   ],
   "source": [
    "#read poem.txt\n",
    "def readPoem():\n",
    "    with open(\"poem.txt\", \"rt\") as file:\n",
    "        print(file.read())\n"
   ]
  },
  {
   "cell_type": "code",
   "execution_count": 7,
   "metadata": {},
   "outputs": [
    {
     "name": "stdout",
     "output_type": "stream",
     "text": [
      "There are 3 lines that do not begin with T\n"
     ]
    }
   ],
   "source": [
    "#Lines that dont begin with T\n",
    "def lineswithoutT():\n",
    "    with open(\"story.txt\", \"rt\") as file:\n",
    "        data = file.read()\n",
    "        listed_data = data.split(\"\\n\")\n",
    "        x = 0\n",
    "        for s in listed_data:\n",
    "            if s[0] != \"T\":\n",
    "                x = x + 1\n",
    "\n",
    "    print(\"There are\", x, \"lines that do not begin with T\")\n"
   ]
  },
  {
   "cell_type": "code",
   "execution_count": 9,
   "metadata": {},
   "outputs": [
    {
     "name": "stdout",
     "output_type": "stream",
     "text": [
      "The number of words in the file is 36\n"
     ]
    }
   ],
   "source": [
    "#Number of words\n",
    "def numWords():\n",
    "    with open(\"story.txt\",\"rt\") as file:\n",
    "        words_list = file.read().split()\n",
    "        print(\"The number of words in the file is\", len(words_list))"
   ]
  },
  {
   "cell_type": "code",
   "execution_count": 22,
   "metadata": {},
   "outputs": [
    {
     "name": "stdout",
     "output_type": "stream",
     "text": [
      "The number of times the word 'the' is written is 5\n"
     ]
    }
   ],
   "source": [
    "#number of \"the\"\n",
    "def numofThe():\n",
    "    with open(\"notes.txt\",\"rt\") as file:\n",
    "        x = 0\n",
    "        words_list = file.read().split()\n",
    "        for a in words_list:\n",
    "            if a.casefold() == \"the\".casefold():\n",
    "                x = x + 1\n",
    "        print(\"The number of times the word 'the' is written is\", x)"
   ]
  },
  {
   "cell_type": "code",
   "execution_count": 12,
   "metadata": {},
   "outputs": [
    {
     "name": "stdout",
     "output_type": "stream",
     "text": [
      "The number of words less than 4 characters is 20\n"
     ]
    }
   ],
   "source": [
    "#display words less than 4 characters\n",
    "def wordsLessFour(file_name):\n",
    "    with open(file_name+\".txt\",\"rt\") as file:\n",
    "        x = 0\n",
    "        words_list = file.read().split()\n",
    "        for a in words_list:\n",
    "            if len(a) < 4:\n",
    "                x = x + 1\n",
    "        print(\"The number of words less than 4 characters is\", x)\n",
    "        \n",
    "\n",
    "\n",
    "filename = input(\"Enter file name\")\n",
    "try:\n",
    "    wordsLessFour(filename)\n",
    "except:\n",
    "    print(\"File not found.\")\n",
    "\n"
   ]
  },
  {
   "cell_type": "code",
   "execution_count": 23,
   "metadata": {},
   "outputs": [
    {
     "name": "stdout",
     "output_type": "stream",
     "text": [
      "['This', 'that', 'and', 'these', 'are', 'that', 'but', 'this', 'and', 'these', 'are', 'not', 'that', 'i', 'guess.', 'THESE', 'and', 'THIS', 'maybe', 'that', 'and', 'these.']\n",
      "the number of 'this' and 'these' in the file is 6\n"
     ]
    }
   ],
   "source": [
    "#count this / these\n",
    "def countThisThese(file_name):\n",
    "    with open(file_name+\".txt\",\"rt\") as file:\n",
    "        x = 0\n",
    "        words_list = file.read().split()\n",
    "        for a in words_list:\n",
    "            if a.casefold() == \"this\".casefold() or a.casefold() == \"these\".casefold():\n",
    "                x = x + 1\n",
    "        print(\"the number of 'this' and 'these' in the file is\", x)\n",
    "filename = input(\"Enter file name\")\n",
    "try:\n",
    "    countThisThese(filename)\n",
    "except:\n",
    "    print(\"File not found.\")\n"
   ]
  },
  {
   "cell_type": "code",
   "execution_count": 25,
   "metadata": {},
   "outputs": [
    {
     "name": "stdout",
     "output_type": "stream",
     "text": [
      "the number of words that end with 'e' is 9\n"
     ]
    }
   ],
   "source": [
    "#count words ending with e\n",
    "def endE(file_name):\n",
    "    with open(file_name+\".txt\",\"rt\") as file:\n",
    "        x = 0\n",
    "        words_list = file.read().split()\n",
    "        for a in words_list:\n",
    "            if a.endswith(\"e\".casefold()):\n",
    "                x = x + 1\n",
    "        print(\"the number of words that end with 'e' is\",x)\n",
    "\n",
    "filename = input(\"Enter file name\")\n",
    "try:\n",
    "    endE(filename)\n",
    "except:\n",
    "    print(\"File not found.\")"
   ]
  },
  {
   "cell_type": "code",
   "execution_count": 27,
   "metadata": {},
   "outputs": [
    {
     "name": "stdout",
     "output_type": "stream",
     "text": [
      "the number of uppercase letters is 7\n"
     ]
    }
   ],
   "source": [
    "#is uppercase?\n",
    "def uppercaseCount(file_name):\n",
    "    with open(file_name+\".txt\",\"rt\") as file:\n",
    "        x = 0\n",
    "        words_list = file.read().split()\n",
    "        for a in words_list:\n",
    "            word = [*a]\n",
    "            for letters in word:\n",
    "                if letters.isupper():\n",
    "                    x = x + 1\n",
    "        print(\"the number of uppercase letters is\",x)\n",
    "\n",
    "filename = input(\"Enter file name\")\n",
    "try:\n",
    "    uppercaseCount(filename)\n",
    "except:\n",
    "    print(\"File not found.\")"
   ]
  },
  {
   "cell_type": "code",
   "execution_count": null,
   "metadata": {},
   "outputs": [],
   "source": [
    "#Object Oriented Concepts"
   ]
  },
  {
   "cell_type": "code",
   "execution_count": 29,
   "metadata": {},
   "outputs": [
    {
     "name": "stdout",
     "output_type": "stream",
     "text": [
      "Length: 5 \n",
      "Width: 6 \n",
      "Perimeter: 22 \n",
      "Area: 30\n",
      "Length: 3 \n",
      "Width: 4 \n",
      "Height: 8 \n",
      "Base Perimeter: 14 \n",
      "Base Area: 12 \n",
      "Volume: 96\n"
     ]
    }
   ],
   "source": [
    "#Rectangle Class\n",
    "class Rectangle:\n",
    "    def __init__(self, length, width):\n",
    "        self.length = length\n",
    "        self.width = width\n",
    "    def Perimeter(self):\n",
    "        return self.length * 2 + self.width * 2\n",
    "    def Area(self):\n",
    "        return self.length * self.width\n",
    "    def display(self):\n",
    "        print(\"Length:\",self.length,\"\\nWidth:\",self.width,\"\\nPerimeter:\",self.Perimeter(),\"\\nArea:\",self.Area())\n",
    "\n",
    "class Parallelepipede(Rectangle):\n",
    "    def __init__(self, length, width, height):\n",
    "        super().__init__(length, width)\n",
    "        self.height = height\n",
    "    def Volume(self):\n",
    "        return self.Area() * self.height\n",
    "    def display(self):\n",
    "        print(\"Length:\",self.length,\"\\nWidth:\",self.width,\"\\nHeight:\",self.height,\"\\nBase Perimeter:\",self.Perimeter(),\"\\nBase Area:\",self.Area(),\"\\nVolume:\",self.Volume())\n",
    "\n",
    "rect = Rectangle(5,6)\n",
    "\n",
    "para = Parallelepipede(3,4,8)\n",
    "\n",
    "rect.display()\n",
    "\n",
    "para.display()\n",
    "    \n"
   ]
  },
  {
   "cell_type": "code",
   "execution_count": 30,
   "metadata": {},
   "outputs": [
    {
     "name": "stdout",
     "output_type": "stream",
     "text": [
      "Barry Bonds :: 45\n",
      "Barry Bonds :: 45 :: Python with Big Data and when i say big data i really do mean BIG DATA\n"
     ]
    }
   ],
   "source": [
    "#Person and student class\n",
    "\n",
    "class Person:\n",
    "    def __init__(self, name, age):\n",
    "        self.name = name\n",
    "        self.age = str(age)\n",
    "    def display(self):\n",
    "        print(self.name,\"::\",self.age)\n",
    "\n",
    "class Student(Person):\n",
    "    def __init__(self, name, age, section):\n",
    "        super().__init__(name, age)\n",
    "        self.section = section\n",
    "    def displayStudent(self):\n",
    "        print(self.name,\"::\",self.age,\"::\",self.section)\n",
    "    \n",
    "s1 = Student(\"Barry Bonds\",\"45\",\"Python with Big Data and when i say big data i really do mean BIG DATA\")\n",
    "\n",
    "s1.display()\n",
    "s1.displayStudent()\n"
   ]
  },
  {
   "cell_type": "code",
   "execution_count": 32,
   "metadata": {},
   "outputs": [
    {
     "name": "stdout",
     "output_type": "stream",
     "text": [
      "Account Number: 422342432 \n",
      "Name: Jim Billington the 4th \n",
      "Current Balance: 620000.0 \n",
      "Next Balance after Bank Fees: 589000.0\n"
     ]
    }
   ],
   "source": [
    "#Bank Account Class\n",
    "class BankAccount:\n",
    "    def __init__(self,accountNumber,name,balance):\n",
    "        self.accountNumber = int(accountNumber)\n",
    "        self.name = str(name)\n",
    "        self.balance = float(balance)\n",
    "    \n",
    "    def Deposit(self,amount):\n",
    "        self.balance = self.balance + amount\n",
    "    def Widthdrawal(self,amount):\n",
    "        self.balance = self.balance - amount\n",
    "    def bankFees(self):\n",
    "        self.balance = self.balance - self.balance*.05\n",
    "        return self.balance\n",
    "    def display(self):\n",
    "        print(\"Account Number:\",self.accountNumber,\"\\nName:\",self.name,\"\\nCurrent Balance:\",self.balance,\"\\nNext Balance after Bank Fees:\",self.bankFees())\n",
    "\n",
    "b1 = BankAccount(422342432,\"Jim Billington the 4th\",620000)\n",
    "b1.Deposit(80000)\n",
    "b1.Widthdrawal(100000)\n",
    "b1.display()"
   ]
  }
 ],
 "metadata": {
  "kernelspec": {
   "display_name": "Python 3.9.13 64-bit (microsoft store)",
   "language": "python",
   "name": "python3"
  },
  "language_info": {
   "codemirror_mode": {
    "name": "ipython",
    "version": 3
   },
   "file_extension": ".py",
   "mimetype": "text/x-python",
   "name": "python",
   "nbconvert_exporter": "python",
   "pygments_lexer": "ipython3",
   "version": "3.9.13"
  },
  "orig_nbformat": 4,
  "vscode": {
   "interpreter": {
    "hash": "03b0a485e4005ef4a4f6a3f18ef87b0d97ed4f75e9ffd012b2cebaf2e9d31884"
   }
  }
 },
 "nbformat": 4,
 "nbformat_minor": 2
}
